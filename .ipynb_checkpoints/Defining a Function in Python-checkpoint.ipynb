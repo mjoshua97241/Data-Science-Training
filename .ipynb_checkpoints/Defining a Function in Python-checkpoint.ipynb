{
 "cells": [
  {
   "cell_type": "markdown",
   "id": "6103f673-0b1a-490d-a2a8-ebb8ec846d6e",
   "metadata": {},
   "source": [
    "# Defining a Function in Python"
   ]
  },
  {
   "cell_type": "code",
   "execution_count": null,
   "id": "7d777f2d-0e95-4585-9aa8-39b9110c6dc9",
   "metadata": {},
   "outputs": [],
   "source": [
    "def simple():"
   ]
  },
  {
   "cell_type": "code",
   "execution_count": null,
   "id": "80e00c43-4d56-406f-b25b-f06ca0908777",
   "metadata": {},
   "outputs": [],
   "source": []
  },
  {
   "cell_type": "code",
   "execution_count": null,
   "id": "c89d39ee-6918-4069-b2c9-bb4d2e61232a",
   "metadata": {},
   "outputs": [],
   "source": []
  },
  {
   "cell_type": "code",
   "execution_count": null,
   "id": "6aecd45f-d8cc-4357-88ca-36282ea99cdc",
   "metadata": {},
   "outputs": [],
   "source": []
  },
  {
   "cell_type": "code",
   "execution_count": null,
   "id": "1f3391a2-24dc-43b2-8c42-e14a2764ce06",
   "metadata": {},
   "outputs": [],
   "source": []
  },
  {
   "cell_type": "code",
   "execution_count": null,
   "id": "5b823793-a454-4922-b8d7-89ce305c3b3c",
   "metadata": {},
   "outputs": [],
   "source": []
  },
  {
   "cell_type": "code",
   "execution_count": null,
   "id": "cd108a8c-f89d-4e28-ac22-9d76a1dade71",
   "metadata": {},
   "outputs": [],
   "source": []
  },
  {
   "cell_type": "code",
   "execution_count": null,
   "id": "41139954-0d9d-4472-b74c-74dd34ab9719",
   "metadata": {},
   "outputs": [],
   "source": []
  },
  {
   "cell_type": "code",
   "execution_count": null,
   "id": "4bd24d3e-445e-44f5-850c-27b3522ae669",
   "metadata": {},
   "outputs": [],
   "source": []
  }
 ],
 "metadata": {
  "kernelspec": {
   "display_name": "Python 3 (ipykernel)",
   "language": "python",
   "name": "python3"
  },
  "language_info": {
   "codemirror_mode": {
    "name": "ipython",
    "version": 3
   },
   "file_extension": ".py",
   "mimetype": "text/x-python",
   "name": "python",
   "nbconvert_exporter": "python",
   "pygments_lexer": "ipython3",
   "version": "3.12.7"
  }
 },
 "nbformat": 4,
 "nbformat_minor": 5
}
