{
 "cells": [
  {
   "cell_type": "markdown",
   "id": "3eb4be6e-5dd3-40d8-bd6c-686ee79d2f0c",
   "metadata": {},
   "source": [
    "# Lists\n",
    "\n",
    "It is a type of sequence of data points.\n",
    "\n",
    "Note:\n",
    "- Use square brackets []\n",
    "- Use quotation marks ''\n",
    "\n",
    "To access the elements:\n",
    "\"Name_of_list\"[index_of_element]\n",
    "\n",
    "❌Do not use () or {}!"
   ]
  },
  {
   "cell_type": "code",
   "execution_count": 3,
   "id": "c82f4a99-cdf4-4dc8-9d36-76f30b2b0173",
   "metadata": {},
   "outputs": [
    {
     "data": {
      "text/plain": [
       "['John', 'Leila', 'Gregory', 'Cate']"
      ]
     },
     "execution_count": 3,
     "metadata": {},
     "output_type": "execute_result"
    }
   ],
   "source": [
    "Participants = ['John', 'Leila', 'Gregory', 'Cate']\n",
    "Participants"
   ]
  },
  {
   "cell_type": "code",
   "execution_count": 4,
   "id": "a2e59975-21a5-4781-92d8-52fdc2058f87",
   "metadata": {},
   "outputs": [
    {
     "data": {
      "text/plain": [
       "'Leila'"
      ]
     },
     "execution_count": 4,
     "metadata": {},
     "output_type": "execute_result"
    }
   ],
   "source": [
    "Participants[1]"
   ]
  },
  {
   "cell_type": "code",
   "execution_count": 5,
   "id": "e938b609-e509-4700-8fb1-4a72bbdbcfc0",
   "metadata": {},
   "outputs": [
    {
     "data": {
      "text/plain": [
       "'Cate'"
      ]
     },
     "execution_count": 5,
     "metadata": {},
     "output_type": "execute_result"
    }
   ],
   "source": [
    "Participants[-1]"
   ]
  },
  {
   "cell_type": "code",
   "execution_count": 6,
   "id": "33d76f94-cb04-4750-8a8f-f6898503a187",
   "metadata": {},
   "outputs": [
    {
     "data": {
      "text/plain": [
       "['John', 'Leila', 'Gregory', 'Maria']"
      ]
     },
     "execution_count": 6,
     "metadata": {},
     "output_type": "execute_result"
    }
   ],
   "source": [
    "Participants[3] = 'Maria'\n",
    "Participants"
   ]
  },
  {
   "cell_type": "code",
   "execution_count": 7,
   "id": "f8b033bf-2c04-4f59-a0dd-88472d8dd564",
   "metadata": {},
   "outputs": [
    {
     "data": {
      "text/plain": [
       "['John', 'Leila', 'Maria']"
      ]
     },
     "execution_count": 7,
     "metadata": {},
     "output_type": "execute_result"
    }
   ],
   "source": [
    "del Participants[2]\n",
    "Participants"
   ]
  },
  {
   "cell_type": "markdown",
   "id": "a3f00627-51fd-47c0-a220-f37d77f459b0",
   "metadata": {},
   "source": [
    "# Methods\n",
    "\"dot\" operator - call on/invoke a certain method"
   ]
  },
  {
   "cell_type": "code",
   "execution_count": 9,
   "id": "79bdafc1-2aad-4903-ae7f-821b1a84c19c",
   "metadata": {},
   "outputs": [
    {
     "data": {
      "text/plain": [
       "['John', 'Leila', 'Maria', 'Dwayne']"
      ]
     },
     "execution_count": 9,
     "metadata": {},
     "output_type": "execute_result"
    }
   ],
   "source": [
    "Participants.append(\"Dwayne\")\n",
    "Participants"
   ]
  },
  {
   "cell_type": "code",
   "execution_count": 10,
   "id": "d2f49a1a-82b5-4476-bc84-3ae3cdcdea94",
   "metadata": {},
   "outputs": [
    {
     "data": {
      "text/plain": [
       "['John', 'Leila', 'Maria', 'Dwayne', 'George', 'Catherine']"
      ]
     },
     "execution_count": 10,
     "metadata": {},
     "output_type": "execute_result"
    }
   ],
   "source": [
    "Participants.extend(['George', 'Catherine'])\n",
    "Participants"
   ]
  },
  {
   "cell_type": "code",
   "execution_count": 11,
   "id": "a99d593e-97d5-475b-9eb3-f63b9c0682c8",
   "metadata": {},
   "outputs": [
    {
     "name": "stdout",
     "output_type": "stream",
     "text": [
      "The first participant is John.\n"
     ]
    }
   ],
   "source": [
    "print('The first participant is ' + Participants[0] + '.')"
   ]
  },
  {
   "cell_type": "code",
   "execution_count": 12,
   "id": "5443d9cb-be55-4cd4-abe1-42b7633afc34",
   "metadata": {},
   "outputs": [
    {
     "data": {
      "text/plain": [
       "7"
      ]
     },
     "execution_count": 12,
     "metadata": {},
     "output_type": "execute_result"
    }
   ],
   "source": [
    "len('Dolphin')"
   ]
  },
  {
   "cell_type": "code",
   "execution_count": 13,
   "id": "0de97176-0314-4149-b77c-ef801621fc92",
   "metadata": {},
   "outputs": [
    {
     "data": {
      "text/plain": [
       "6"
      ]
     },
     "execution_count": 13,
     "metadata": {},
     "output_type": "execute_result"
    }
   ],
   "source": [
    "len(Participants)"
   ]
  },
  {
   "cell_type": "markdown",
   "id": "834dda4a-ad26-4cbf-af15-3c700732981c",
   "metadata": {},
   "source": [
    "# List Slicing"
   ]
  },
  {
   "cell_type": "code",
   "execution_count": 15,
   "id": "b1288e79-c759-4963-87aa-e0ebf3fdaafa",
   "metadata": {},
   "outputs": [
    {
     "data": {
      "text/plain": [
       "['Leila', 'Maria']"
      ]
     },
     "execution_count": 15,
     "metadata": {},
     "output_type": "execute_result"
    }
   ],
   "source": [
    "Participants[1:3]"
   ]
  },
  {
   "cell_type": "code",
   "execution_count": 16,
   "id": "403e3323-7208-427e-b183-cbe530e142a5",
   "metadata": {},
   "outputs": [
    {
     "data": {
      "text/plain": [
       "['John', 'Leila']"
      ]
     },
     "execution_count": 16,
     "metadata": {},
     "output_type": "execute_result"
    }
   ],
   "source": [
    "Participants[:2]"
   ]
  },
  {
   "cell_type": "code",
   "execution_count": 17,
   "id": "b5a73035-9ce6-4fc7-8a1b-39571ae7c6ea",
   "metadata": {},
   "outputs": [
    {
     "data": {
      "text/plain": [
       "['George', 'Catherine']"
      ]
     },
     "execution_count": 17,
     "metadata": {},
     "output_type": "execute_result"
    }
   ],
   "source": [
    "Participants[4:]"
   ]
  },
  {
   "cell_type": "code",
   "execution_count": 18,
   "id": "ef705ec4-08cd-4c09-95bc-8ae251a7b68d",
   "metadata": {},
   "outputs": [
    {
     "data": {
      "text/plain": [
       "['George', 'Catherine']"
      ]
     },
     "execution_count": 18,
     "metadata": {},
     "output_type": "execute_result"
    }
   ],
   "source": [
    "Participants[-2:]"
   ]
  },
  {
   "cell_type": "code",
   "execution_count": 19,
   "id": "6a24496c-a4c6-4895-b129-c538f367b3db",
   "metadata": {},
   "outputs": [
    {
     "data": {
      "text/plain": [
       "2"
      ]
     },
     "execution_count": 19,
     "metadata": {},
     "output_type": "execute_result"
    }
   ],
   "source": [
    "Participants.index(\"Maria\")"
   ]
  },
  {
   "cell_type": "code",
   "execution_count": 20,
   "id": "833c6157-739d-446e-84cc-876c1bc931a6",
   "metadata": {},
   "outputs": [
    {
     "data": {
      "text/plain": [
       "['Joshua', 'Brittany']"
      ]
     },
     "execution_count": 20,
     "metadata": {},
     "output_type": "execute_result"
    }
   ],
   "source": [
    "Newcomers = ['Joshua', 'Brittany']\n",
    "Newcomers"
   ]
  },
  {
   "cell_type": "code",
   "execution_count": 21,
   "id": "b8542acc-dd29-427f-904d-7b26d873eda1",
   "metadata": {},
   "outputs": [
    {
     "data": {
      "text/plain": [
       "[['John', 'Leila', 'Maria', 'Dwayne', 'George', 'Catherine'],\n",
       " ['Joshua', 'Brittany']]"
      ]
     },
     "execution_count": 21,
     "metadata": {},
     "output_type": "execute_result"
    }
   ],
   "source": [
    "BigList = [Participants, Newcomers]\n",
    "BigList"
   ]
  },
  {
   "cell_type": "code",
   "execution_count": 22,
   "id": "26f2f358-4f2c-42c6-aead-ed4f609e210d",
   "metadata": {},
   "outputs": [
    {
     "data": {
      "text/plain": [
       "['Catherine', 'Dwayne', 'George', 'John', 'Leila', 'Maria']"
      ]
     },
     "execution_count": 22,
     "metadata": {},
     "output_type": "execute_result"
    }
   ],
   "source": [
    "Participants.sort()\n",
    "Participants"
   ]
  },
  {
   "cell_type": "code",
   "execution_count": 23,
   "id": "13075700-c8fb-432f-b2bd-d1473954b453",
   "metadata": {},
   "outputs": [
    {
     "data": {
      "text/plain": [
       "['Maria', 'Leila', 'John', 'George', 'Dwayne', 'Catherine']"
      ]
     },
     "execution_count": 23,
     "metadata": {},
     "output_type": "execute_result"
    }
   ],
   "source": [
    "Participants.sort(reverse=True)\n",
    "Participants"
   ]
  },
  {
   "cell_type": "code",
   "execution_count": 24,
   "id": "faf67aa4-f174-42f1-a80a-a4cbef8c6330",
   "metadata": {},
   "outputs": [
    {
     "data": {
      "text/plain": [
       "[1, 2, 3, 4, 5]"
      ]
     },
     "execution_count": 24,
     "metadata": {},
     "output_type": "execute_result"
    }
   ],
   "source": [
    "Numbers = [1,2,3,4,5]\n",
    "Numbers.sort()\n",
    "Numbers"
   ]
  },
  {
   "cell_type": "code",
   "execution_count": 25,
   "id": "4fb1e349-3296-425e-b8e6-30639033d162",
   "metadata": {},
   "outputs": [
    {
     "data": {
      "text/plain": [
       "[5, 4, 3, 2, 1]"
      ]
     },
     "execution_count": 25,
     "metadata": {},
     "output_type": "execute_result"
    }
   ],
   "source": [
    "Numbers.sort(reverse=True)\n",
    "Numbers"
   ]
  },
  {
   "cell_type": "markdown",
   "id": "10b0875c-c898-4bd1-9d09-dfeb26474dba",
   "metadata": {},
   "source": [
    "# Tuples\n",
    "\n",
    "- They are type of data sequences\n",
    "- They are _immutable_ (can't be change or modified, append or delete elements)\n",
    "- they placed within _parenthesis_ \"()\"\n",
    "- helpful in comma-separated values"
   ]
  },
  {
   "cell_type": "code",
   "execution_count": 27,
   "id": "20ffe40e-99ab-4f81-8f1e-c1bbd3140b34",
   "metadata": {},
   "outputs": [
    {
     "data": {
      "text/plain": [
       "(40, 41, 42)"
      ]
     },
     "execution_count": 27,
     "metadata": {},
     "output_type": "execute_result"
    }
   ],
   "source": [
    "x = (40,41,42)\n",
    "x"
   ]
  },
  {
   "cell_type": "code",
   "execution_count": 28,
   "id": "5e9f9766-1027-4c3d-ae2a-ac5129598bda",
   "metadata": {},
   "outputs": [
    {
     "data": {
      "text/plain": [
       "(50, 51, 52)"
      ]
     },
     "execution_count": 28,
     "metadata": {},
     "output_type": "execute_result"
    }
   ],
   "source": [
    "y = 50, 51, 52\n",
    "y"
   ]
  },
  {
   "cell_type": "code",
   "execution_count": 29,
   "id": "1962858f-695c-4cd0-a3ac-af95be939d74",
   "metadata": {},
   "outputs": [
    {
     "data": {
      "text/plain": [
       "6"
      ]
     },
     "execution_count": 29,
     "metadata": {},
     "output_type": "execute_result"
    }
   ],
   "source": [
    "a,b,c=1,4,6\n",
    "c"
   ]
  },
  {
   "cell_type": "code",
   "execution_count": 30,
   "id": "6e53cb8a-02b8-4e8d-89ed-8a2a44dd44c5",
   "metadata": {},
   "outputs": [
    {
     "data": {
      "text/plain": [
       "40"
      ]
     },
     "execution_count": 30,
     "metadata": {},
     "output_type": "execute_result"
    }
   ],
   "source": [
    "x[0]"
   ]
  },
  {
   "cell_type": "code",
   "execution_count": 31,
   "id": "c077ea4d-9724-45a9-82c6-17b4442911a0",
   "metadata": {},
   "outputs": [
    {
     "data": {
      "text/plain": [
       "[(40, 41, 42), (50, 51, 52)]"
      ]
     },
     "execution_count": 31,
     "metadata": {},
     "output_type": "execute_result"
    }
   ],
   "source": [
    "List_1 = [x,y]\n",
    "List_1"
   ]
  },
  {
   "cell_type": "code",
   "execution_count": 32,
   "id": "c8c028e3-e8fe-412e-9df7-389e739213f0",
   "metadata": {},
   "outputs": [
    {
     "name": "stdout",
     "output_type": "stream",
     "text": [
      "30\n",
      "17\n"
     ]
    }
   ],
   "source": [
    "# comma-separated values\n",
    "(age, years_of_school) = \"30,17\".split(',')\n",
    "print(age)\n",
    "print(years_of_school)"
   ]
  },
  {
   "cell_type": "markdown",
   "id": "76cc9dd0-54fe-4c08-87b0-fe52251ece64",
   "metadata": {},
   "source": [
    "Functions can provide tuples as return values"
   ]
  },
  {
   "cell_type": "code",
   "execution_count": 34,
   "id": "ba76f187-b5a8-4a7f-99e7-702ff515908c",
   "metadata": {},
   "outputs": [
    {
     "name": "stdout",
     "output_type": "stream",
     "text": [
      "Area and Perimeter:\n"
     ]
    },
    {
     "data": {
      "text/plain": [
       "(9, 12)"
      ]
     },
     "execution_count": 34,
     "metadata": {},
     "output_type": "execute_result"
    }
   ],
   "source": [
    "def square_info(x):\n",
    "    A = x ** 2\n",
    "    P = 4 * x\n",
    "    print(\"Area and Perimeter:\")\n",
    "    return A,P\n",
    "\n",
    "square_info(3)"
   ]
  },
  {
   "cell_type": "markdown",
   "id": "4a152fb2-30fd-40f8-b34a-b906508ebc0a",
   "metadata": {},
   "source": [
    "# Dictionaries\n",
    "\n",
    "- Key-value pair Ex: 'k1': \"cat\"\n",
    "- Use _curly braces_ \"{}\""
   ]
  },
  {
   "cell_type": "code",
   "execution_count": 36,
   "id": "30d7efa2-859e-4c0d-98fe-092afff1bd3e",
   "metadata": {},
   "outputs": [
    {
     "data": {
      "text/plain": [
       "{'k1': 'cat', 'k2': 'dog', 'k3': 'mouse', 'k4': 'fish'}"
      ]
     },
     "execution_count": 36,
     "metadata": {},
     "output_type": "execute_result"
    }
   ],
   "source": [
    "dict = {'k1': \"cat\", 'k2': \"dog\", 'k3': \"mouse\", 'k4': \"fish\"}\n",
    "dict"
   ]
  },
  {
   "cell_type": "code",
   "execution_count": 37,
   "id": "35819191-be23-4ffa-a85f-f1b1c9cfdcaa",
   "metadata": {},
   "outputs": [
    {
     "data": {
      "text/plain": [
       "'mouse'"
      ]
     },
     "execution_count": 37,
     "metadata": {},
     "output_type": "execute_result"
    }
   ],
   "source": [
    "dict[\"k3\"]"
   ]
  },
  {
   "cell_type": "code",
   "execution_count": 38,
   "id": "9becace7-f0b3-4071-b5d1-698a607282fd",
   "metadata": {},
   "outputs": [
    {
     "data": {
      "text/plain": [
       "{'k1': 'cat', 'k2': 'dog', 'k3': 'mouse', 'k4': 'fish', 'k5': 'parrot'}"
      ]
     },
     "execution_count": 38,
     "metadata": {},
     "output_type": "execute_result"
    }
   ],
   "source": [
    "# to add new key-value pair\n",
    "dict['k5'] = 'parrot'\n",
    "dict"
   ]
  },
  {
   "cell_type": "code",
   "execution_count": 39,
   "id": "f50be143-ab16-45a5-b7e6-77cc5db3bddd",
   "metadata": {},
   "outputs": [
    {
     "data": {
      "text/plain": [
       "{'k1': 'cat', 'k2': 'squirrel', 'k3': 'mouse', 'k4': 'fish', 'k5': 'parrot'}"
      ]
     },
     "execution_count": 39,
     "metadata": {},
     "output_type": "execute_result"
    }
   ],
   "source": [
    "# changing the value in a certain key\n",
    "dict['k2'] = 'squirrel'\n",
    "dict"
   ]
  },
  {
   "cell_type": "code",
   "execution_count": 40,
   "id": "8a7c5a19-4744-428e-b445-7590298373d2",
   "metadata": {},
   "outputs": [],
   "source": [
    "dep_workers = {'dep_1': 'Peter', 'dep_2': ['Jennifer', 'Michael', 'Tommy']}"
   ]
  },
  {
   "cell_type": "code",
   "execution_count": 41,
   "id": "f8e02b8e-6224-43d2-a497-c92d9bd330ea",
   "metadata": {},
   "outputs": [
    {
     "data": {
      "text/plain": [
       "['Jennifer', 'Michael', 'Tommy']"
      ]
     },
     "execution_count": 41,
     "metadata": {},
     "output_type": "execute_result"
    }
   ],
   "source": [
    "dep_workers['dep_2']"
   ]
  },
  {
   "cell_type": "code",
   "execution_count": 42,
   "id": "88af04e8-5bb7-4352-a661-03526f81e3be",
   "metadata": {},
   "outputs": [],
   "source": [
    "Team = {}\n",
    "Team['Point Guard'] = 'Dirk'\n",
    "Team['Shooting Guard'] = 'Al'\n",
    "Team['Small Forward'] = 'Sean'\n",
    "Team['Power Forward'] = 'Alexander'\n",
    "Team['Center'] = 'Hector'"
   ]
  },
  {
   "cell_type": "code",
   "execution_count": 43,
   "id": "698c8217-bc45-4588-9804-2ea389d93ca9",
   "metadata": {},
   "outputs": [
    {
     "name": "stdout",
     "output_type": "stream",
     "text": [
      "{'Point Guard': 'Dirk', 'Shooting Guard': 'Al', 'Small Forward': 'Sean', 'Power Forward': 'Alexander', 'Center': 'Hector'}\n"
     ]
    }
   ],
   "source": [
    "print(Team)"
   ]
  },
  {
   "cell_type": "code",
   "execution_count": 44,
   "id": "00558e78-2e64-44ea-8275-029f0c32e93a",
   "metadata": {},
   "outputs": [
    {
     "name": "stdout",
     "output_type": "stream",
     "text": [
      "Hector\n"
     ]
    }
   ],
   "source": [
    "print(Team['Center'])"
   ]
  },
  {
   "cell_type": "code",
   "execution_count": 45,
   "id": "5cfc68e5-050e-4e80-bf21-31c70c53946d",
   "metadata": {},
   "outputs": [
    {
     "name": "stdout",
     "output_type": "stream",
     "text": [
      "Sean\n"
     ]
    }
   ],
   "source": [
    "print(Team.get('Small Forward'))"
   ]
  },
  {
   "cell_type": "code",
   "execution_count": 46,
   "id": "f8a08a51-8c51-4264-a20a-7ddf474b7ac4",
   "metadata": {},
   "outputs": [
    {
     "name": "stdout",
     "output_type": "stream",
     "text": [
      "None\n"
     ]
    }
   ],
   "source": [
    "print(Team.get('Coach'))"
   ]
  },
  {
   "cell_type": "code",
   "execution_count": 47,
   "id": "3602b528-6b55-4405-8459-0036e2588cb1",
   "metadata": {},
   "outputs": [
    {
     "data": {
      "text/plain": [
       "{'meal_1': 10}"
      ]
     },
     "execution_count": 47,
     "metadata": {},
     "output_type": "execute_result"
    }
   ],
   "source": [
    "Menu = {'meal_1':'Spaghetti', 'meal_2':'Fries', 'meal_3':'Cheeseburger', 'meal_4':'Lasagna', 'meal_5':'Soup'}\n",
    "Price_list = {}\n",
    "Price_list['meal_1'] = 10\n",
    "\n",
    "Price_list"
   ]
  },
  {
   "attachments": {
    "0fc3d119-b670-4e51-aa13-d6a8154d10fc.png": {
     "image/png": "[encoded data removed]"
    }
   },
   "cell_type": "markdown",
   "id": "cec452cc-48e6-459d-acc6-d9c6cec02473",
   "metadata": {},
   "source": [
    "# Create Lists with the range() Function\n",
    "\n",
    "range(start, stop, step)\n",
    "\n",
    "start = the first number in the list\n",
    "stop = the last value + 1\n",
    "step = the distance between each two consecutive values\n",
    "\n",
    "Order of importance\n",
    "\n",
    "![image.png](attachment:0fc3d119-b670-4e51-aa13-d6a8154d10fc.png)"
   ]
  },
  {
   "cell_type": "code",
   "execution_count": 49,
   "id": "295a6dd9-a6d1-4423-b644-f4eb04abf159",
   "metadata": {},
   "outputs": [
    {
     "data": {
      "text/plain": [
       "range(0, 11)"
      ]
     },
     "execution_count": 49,
     "metadata": {},
     "output_type": "execute_result"
    }
   ],
   "source": [
    "range(11)"
   ]
  },
  {
   "cell_type": "code",
   "execution_count": 50,
   "id": "90cf9175-0983-4c6c-a492-72dd9ffe43d4",
   "metadata": {},
   "outputs": [
    {
     "data": {
      "text/plain": [
       "[0, 1, 2, 3, 4, 5, 6, 7, 8, 9, 10]"
      ]
     },
     "execution_count": 50,
     "metadata": {},
     "output_type": "execute_result"
    }
   ],
   "source": [
    "# use list(range(10)) to display the sequence as a list\n",
    "list(range(11))"
   ]
  },
  {
   "cell_type": "code",
   "execution_count": 51,
   "id": "fce11d65-d362-49cc-a780-7821cc0acde8",
   "metadata": {},
   "outputs": [
    {
     "data": {
      "text/plain": [
       "range(3, 7)"
      ]
     },
     "execution_count": 51,
     "metadata": {},
     "output_type": "execute_result"
    }
   ],
   "source": [
    "range(3,7)"
   ]
  },
  {
   "cell_type": "code",
   "execution_count": 52,
   "id": "fc39aaff-da07-43f3-b378-fa6fe6aeb8c6",
   "metadata": {},
   "outputs": [
    {
     "data": {
      "text/plain": [
       "[3, 4, 5, 6]"
      ]
     },
     "execution_count": 52,
     "metadata": {},
     "output_type": "execute_result"
    }
   ],
   "source": [
    "list(range(3,7))"
   ]
  },
  {
   "cell_type": "code",
   "execution_count": 53,
   "id": "3dff32ee-c391-443b-acb3-165f3a102517",
   "metadata": {},
   "outputs": [
    {
     "data": {
      "text/plain": [
       "range(1, 20, 2)"
      ]
     },
     "execution_count": 53,
     "metadata": {},
     "output_type": "execute_result"
    }
   ],
   "source": [
    "range(1,20,2)"
   ]
  },
  {
   "cell_type": "code",
   "execution_count": 54,
   "id": "a13b4f77-5af8-4000-9e7e-655c8ab71898",
   "metadata": {},
   "outputs": [
    {
     "data": {
      "text/plain": [
       "[1, 3, 5, 7, 9, 11, 13, 15, 17, 19]"
      ]
     },
     "execution_count": 54,
     "metadata": {},
     "output_type": "execute_result"
    }
   ],
   "source": [
    "list(range(1,20,2))"
   ]
  },
  {
   "cell_type": "markdown",
   "id": "94e93209-80c7-4dd4-8d7f-a6fb13e43d8b",
   "metadata": {},
   "source": [
    "# Use Conditional Statements and Loops To..."
   ]
  },
  {
   "cell_type": "code",
   "execution_count": 56,
   "id": "1f6b7a41-62d3-4947-a8bc-1e9d26f20c61",
   "metadata": {},
   "outputs": [
    {
     "name": "stdout",
     "output_type": "stream",
     "text": [
      "1 2 4 8 16 32 64 128 256 512 "
     ]
    }
   ],
   "source": [
    "for n in range(10):\n",
    "    print(2 ** n, end = \" \")"
   ]
  },
  {
   "cell_type": "code",
   "execution_count": 57,
   "id": "6c8c382d-1b4c-472b-a834-15bc3aab4a6f",
   "metadata": {},
   "outputs": [
    {
     "name": "stdout",
     "output_type": "stream",
     "text": [
      "0 Odd 2 Odd 4 Odd 6 Odd 8 Odd 10 Odd 12 Odd 14 Odd 16 Odd 18 Odd "
     ]
    }
   ],
   "source": [
    "for x in range(20):\n",
    "    if x % 2 == 0:\n",
    "        print( x , end = \" \")\n",
    "    else:\n",
    "        print(\"Odd\", end = \" \")"
   ]
  },
  {
   "cell_type": "code",
   "execution_count": 58,
   "id": "e716fdae-effc-4a55-94d6-ccae786a9aea",
   "metadata": {},
   "outputs": [],
   "source": [
    "x = [0,1,2]"
   ]
  },
  {
   "cell_type": "code",
   "execution_count": 59,
   "id": "3a24b334-b0a3-447f-8769-b3df6a70e44c",
   "metadata": {},
   "outputs": [
    {
     "name": "stdout",
     "output_type": "stream",
     "text": [
      "0 1 2 "
     ]
    }
   ],
   "source": [
    "for item in x:\n",
    "    print(item, end = \" \")"
   ]
  },
  {
   "attachments": {
    "1ce8e0a6-dc19-406a-98f4-a7f1644eb691.png": {
     "image/png": "[encoded data removed]"
    }
   },
   "cell_type": "markdown",
   "id": "db6b3b3c-e37d-4bd7-8d34-fbe78ecbd845",
   "metadata": {},
   "source": [
    "![image.png](attachment:1ce8e0a6-dc19-406a-98f4-a7f1644eb691.png)"
   ]
  },
  {
   "cell_type": "code",
   "execution_count": 61,
   "id": "206fb855-b0d3-4912-a366-bc63431995b2",
   "metadata": {},
   "outputs": [
    {
     "name": "stdout",
     "output_type": "stream",
     "text": [
      "0 1 2 "
     ]
    }
   ],
   "source": [
    "for item in range(len(x)):\n",
    "    print(x[item], end = \" \")"
   ]
  },
  {
   "cell_type": "markdown",
   "id": "bf5d5a4e-ce71-4715-aa38-25abc7e3c484",
   "metadata": {},
   "source": [
    "# ALL IN"
   ]
  },
  {
   "cell_type": "code",
   "execution_count": 124,
   "id": "61f02f1a-e4f3-4040-b381-3b0e6828ea57",
   "metadata": {},
   "outputs": [],
   "source": [
    "def count(numbers):\n",
    "    total = 0 # rolling sum\n",
    "    for x in numbers:\n",
    "        if x < 20:\n",
    "            total += 1\n",
    "    return total"
   ]
  },
  {
   "cell_type": "code",
   "execution_count": 130,
   "id": "03a64aba-477d-4643-ae10-5ac56b95b10b",
   "metadata": {},
   "outputs": [],
   "source": [
    "list_1 = [1,3,7,15,23,43,56,98,17]"
   ]
  },
  {
   "cell_type": "code",
   "execution_count": 128,
   "id": "81753772-fed5-439f-b208-a2e96fa2e642",
   "metadata": {},
   "outputs": [
    {
     "data": {
      "text/plain": [
       "4"
      ]
     },
     "execution_count": 128,
     "metadata": {},
     "output_type": "execute_result"
    }
   ],
   "source": [
    "count(list_1)"
   ]
  },
  {
   "cell_type": "markdown",
   "id": "70c73aaf-fe67-4e5c-8f1e-7a1816f42f48",
   "metadata": {},
   "source": [
    "### Coding Exercise\n",
    "\n",
    "You are provided with the nums list. Define a function called count() containing a while loop to count the number of values in the nums list that are lower than 20."
   ]
  },
  {
   "cell_type": "code",
   "execution_count": null,
   "id": "b6c54680-20e2-4daa-acc4-c12d18183e64",
   "metadata": {},
   "outputs": [],
   "source": [
    "nums = [1,35,12,24,31,51,70,100]\n",
    "\n",
    "def count(numbers):\n",
    "    total = 0\n",
    "    i = 0 # start index\n",
    "    while i < len(numbers): # loop through the list using an index\n",
    "        if numbers[i] < 20: # compare the current element\n",
    "            total += 1 # increment the counter if the condition is met\n",
    "        i += 1 # move to the next index\n",
    "    return total\n",
    "    \n",
    "print(count(nums))"
   ]
  },
  {
   "cell_type": "code",
   "execution_count": null,
   "id": "a33dfc93-1194-4960-8648-27ba41aa943e",
   "metadata": {},
   "outputs": [],
   "source": []
  },
  {
   "cell_type": "code",
   "execution_count": null,
   "id": "df9ef59c-47cd-4f57-baa7-e73b2c67ff33",
   "metadata": {},
   "outputs": [],
   "source": []
  },
  {
   "cell_type": "code",
   "execution_count": null,
   "id": "7b9fcdb7-6ffb-4b44-bd4f-828a1f424f61",
   "metadata": {},
   "outputs": [],
   "source": []
  },
  {
   "cell_type": "code",
   "execution_count": null,
   "id": "79089aa3-cc62-4e4e-a4ec-1fe618e4ec9f",
   "metadata": {},
   "outputs": [],
   "source": []
  },
  {
   "cell_type": "code",
   "execution_count": null,
   "id": "fa1c6640-d619-4353-975f-3eb2fe9ce7d8",
   "metadata": {},
   "outputs": [],
   "source": []
  },
  {
   "cell_type": "code",
   "execution_count": null,
   "id": "54dee9e3-c6ff-40a2-bfcd-f84249b88319",
   "metadata": {},
   "outputs": [],
   "source": []
  },
  {
   "cell_type": "code",
   "execution_count": null,
   "id": "92c20450-0712-4462-8e6d-c1bae270bbf2",
   "metadata": {},
   "outputs": [],
   "source": []
  },
  {
   "cell_type": "code",
   "execution_count": null,
   "id": "4d18a687-1352-42fc-9e9a-e69095b5a0dc",
   "metadata": {},
   "outputs": [],
   "source": []
  },
  {
   "cell_type": "code",
   "execution_count": null,
   "id": "582a7346-9c51-43f6-8877-806218887583",
   "metadata": {},
   "outputs": [],
   "source": []
  },
  {
   "cell_type": "code",
   "execution_count": null,
   "id": "fef3eaf3-f261-4645-b909-574c4afaf15a",
   "metadata": {},
   "outputs": [],
   "source": []
  },
  {
   "cell_type": "code",
   "execution_count": null,
   "id": "0c9ef87a-e095-4c09-b7fc-6e33f8cc86c0",
   "metadata": {},
   "outputs": [],
   "source": []
  },
  {
   "cell_type": "code",
   "execution_count": null,
   "id": "a2d6b37d-3d89-4ded-8cfd-63bd115de128",
   "metadata": {},
   "outputs": [],
   "source": []
  },
  {
   "cell_type": "code",
   "execution_count": null,
   "id": "720d0ffe-ef78-46be-9553-831d5b75d677",
   "metadata": {},
   "outputs": [],
   "source": []
  }
 ],
 "metadata": {
  "kernelspec": {
   "display_name": "Python 3 (ipykernel)",
   "language": "python",
   "name": "python3"
  },
  "language_info": {
   "codemirror_mode": {
    "name": "ipython",
    "version": 3
   },
   "file_extension": ".py",
   "mimetype": "text/x-python",
   "name": "python",
   "nbconvert_exporter": "python",
   "pygments_lexer": "ipython3",
   "version": "3.12.7"
  }
 },
 "nbformat": 4,
 "nbformat_minor": 5
}
