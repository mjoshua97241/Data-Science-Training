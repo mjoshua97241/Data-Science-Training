{
 "cells": [
  {
   "cell_type": "markdown",
   "id": "a04c0707-6a35-48ae-bfa6-b2f5cefc9f30",
   "metadata": {},
   "source": [
    "# For Loops\n",
    "\n",
    "**Structure**:\n",
    "\n",
    "for n in even:\n",
    "    body of the loop"
   ]
  },
  {
   "cell_type": "code",
   "execution_count": 3,
   "id": "41a00650-6e6b-43ac-83bd-ab8f39d184c2",
   "metadata": {},
   "outputs": [],
   "source": [
    "even = [0,2,4,6,8,10,12,14,16,18,20]"
   ]
  },
  {
   "cell_type": "code",
   "execution_count": 4,
   "id": "6060ea02-fd7d-4319-8fa2-92a393d9ed6a",
   "metadata": {},
   "outputs": [
    {
     "name": "stdout",
     "output_type": "stream",
     "text": [
      "0 2 4 6 8 10 12 14 16 18 20 "
     ]
    }
   ],
   "source": [
    "# n - loop variable\n",
    "# even - \n",
    "for n in even:\n",
    "    print(n, end = \" \")"
   ]
  },
  {
   "cell_type": "markdown",
   "id": "9c778fd8-41ce-40af-9a35-893c94752a30",
   "metadata": {},
   "source": [
    "# While Loops and Incrementing\n",
    "\n",
    "‼ Be very careful because it will continue working until the PC crashed if not end properly"
   ]
  },
  {
   "cell_type": "code",
   "execution_count": 13,
   "id": "ab4cebde-844f-4f1f-84cf-6a024cbac244",
   "metadata": {},
   "outputs": [
    {
     "name": "stdout",
     "output_type": "stream",
     "text": [
      "0 2 4 6 8 10 12 14 16 18 20 "
     ]
    }
   ],
   "source": [
    "x = 0\n",
    "while x <= 20:\n",
    "    print(x, end = \" \")\n",
    "    x += 2 # incrementing"
   ]
  },
  {
   "cell_type": "code",
   "execution_count": null,
   "id": "23ea9c87-1fe9-43ba-a869-54795cbfbdd1",
   "metadata": {},
   "outputs": [],
   "source": []
  }
 ],
 "metadata": {
  "kernelspec": {
   "display_name": "Python 3 (ipykernel)",
   "language": "python",
   "name": "python3"
  },
  "language_info": {
   "codemirror_mode": {
    "name": "ipython",
    "version": 3
   },
   "file_extension": ".py",
   "mimetype": "text/x-python",
   "name": "python",
   "nbconvert_exporter": "python",
   "pygments_lexer": "ipython3",
   "version": "3.12.7"
  }
 },
 "nbformat": 4,
 "nbformat_minor": 5
}
