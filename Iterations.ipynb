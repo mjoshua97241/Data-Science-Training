{
 "cells": [
  {
   "cell_type": "markdown",
   "id": "a04c0707-6a35-48ae-bfa6-b2f5cefc9f30",
   "metadata": {},
   "source": [
    "# For Loops\n",
    "\n",
    "**Structure**:\n",
    "\n",
    "for n in even:\n",
    "    body of the loop"
   ]
  },
  {
   "cell_type": "code",
   "execution_count": 3,
   "id": "41a00650-6e6b-43ac-83bd-ab8f39d184c2",
   "metadata": {},
   "outputs": [],
   "source": [
    "even = [0,2,4,6,8,10,12,14,16,18,20]"
   ]
  },
  {
   "cell_type": "code",
   "execution_count": 4,
   "id": "6060ea02-fd7d-4319-8fa2-92a393d9ed6a",
   "metadata": {},
   "outputs": [
    {
     "name": "stdout",
     "output_type": "stream",
     "text": [
      "0 2 4 6 8 10 12 14 16 18 20 "
     ]
    }
   ],
   "source": [
    "# n - loop variable\n",
    "# even - \n",
    "for n in even:\n",
    "    print(n, end = \" \")"
   ]
  },
  {
   "cell_type": "markdown",
   "id": "9c778fd8-41ce-40af-9a35-893c94752a30",
   "metadata": {},
   "source": [
    "# While Loops and Incrementing\n",
    "\n",
    "‼ Be very careful because it will continue working until the PC crashed if not end properly"
   ]
  },
  {
   "cell_type": "code",
   "execution_count": 6,
   "id": "ab4cebde-844f-4f1f-84cf-6a024cbac244",
   "metadata": {},
   "outputs": [
    {
     "name": "stdout",
     "output_type": "stream",
     "text": [
      "0 2 4 6 8 10 12 14 16 18 20 "
     ]
    }
   ],
   "source": [
    "x = 0\n",
    "while x <= 20:\n",
    "    print(x, end = \" \")\n",
    "    x += 2 # incrementing"
   ]
  },
  {
   "cell_type": "markdown",
   "id": "c4826a18-133f-40eb-8b74-eb2d436f8ec8",
   "metadata": {},
   "source": [
    "# Iterating Over Dictionaries"
   ]
  },
  {
   "cell_type": "code",
   "execution_count": 20,
   "id": "33fc6582-6f0b-4b08-a144-bda2b648dfe0",
   "metadata": {},
   "outputs": [],
   "source": [
    "prices = {\n",
    "    \"box_of_spaghetti\" : 4,\n",
    "    \"lasagna\" : 5,\n",
    "    \"hamburger\" : 2\n",
    "}\n",
    "\n",
    "quantity = {\n",
    "    \"box_of_spaghetti\" : 6,\n",
    "    \"lasagna\" : 10,\n",
    "    \"hamburger\" : 0\n",
    "}"
   ]
  },
  {
   "cell_type": "code",
   "execution_count": 28,
   "id": "5c4c7c2f-5772-43f1-aeb9-0174f5529f2a",
   "metadata": {},
   "outputs": [
    {
     "name": "stdout",
     "output_type": "stream",
     "text": [
      "74\n"
     ]
    }
   ],
   "source": [
    "# create a rolling sum by initializing with 0\n",
    "money_spent = 0\n",
    "\n",
    "# loop\n",
    "for i in prices: # it can loop with quantity because they are SAME keys\n",
    "    money_spent = money_spent + (prices[i] * quantity[i])\n",
    "\n",
    "print(money_spent)"
   ]
  },
  {
   "cell_type": "markdown",
   "id": "2b99e5a1-6c9b-4baa-bd57-17515cff7819",
   "metadata": {},
   "source": [
    "# Exercise # 1\n",
    "\n",
    "In this exercise you will use the same dictionaries as the ones we used in the lesson - prices and quantity. This time, don't just calculate all the money Jan spent. Calculate how much she spent on products with a price of 5 dollars or more."
   ]
  },
  {
   "cell_type": "code",
   "execution_count": 39,
   "id": "95408e25-abd7-4104-9c33-d7c70630df22",
   "metadata": {},
   "outputs": [
    {
     "name": "stdout",
     "output_type": "stream",
     "text": [
      "50\n"
     ]
    }
   ],
   "source": [
    "money_spent = 0\n",
    "\n",
    "for i in prices:\n",
    "    if prices[i] >= 5:\n",
    "        money_spent = money_spent + (prices[i] * quantity[i])\n",
    "\n",
    "print(money_spent)"
   ]
  },
  {
   "cell_type": "code",
   "execution_count": null,
   "id": "41ce7136-598c-4692-bdad-3fdac5c90ef5",
   "metadata": {},
   "outputs": [],
   "source": []
  },
  {
   "cell_type": "code",
   "execution_count": null,
   "id": "35f405c9-031e-4bc5-adcc-4a0dd24dea45",
   "metadata": {},
   "outputs": [],
   "source": []
  },
  {
   "cell_type": "code",
   "execution_count": null,
   "id": "75ac6753-f907-4bff-bb12-5fad07224cb1",
   "metadata": {},
   "outputs": [],
   "source": []
  },
  {
   "cell_type": "code",
   "execution_count": null,
   "id": "2eae6b2b-f6fe-4751-91ef-c02e8c8b184b",
   "metadata": {},
   "outputs": [],
   "source": []
  },
  {
   "cell_type": "code",
   "execution_count": null,
   "id": "2492ac8b-9521-4257-a60e-96e89591531f",
   "metadata": {},
   "outputs": [],
   "source": []
  },
  {
   "cell_type": "code",
   "execution_count": null,
   "id": "d543c7c8-4024-4980-a2da-a35ddb92b3ea",
   "metadata": {},
   "outputs": [],
   "source": []
  },
  {
   "cell_type": "code",
   "execution_count": null,
   "id": "b7475e2f-bce6-438f-971e-843b48759f5f",
   "metadata": {},
   "outputs": [],
   "source": []
  },
  {
   "cell_type": "code",
   "execution_count": null,
   "id": "712fca41-a259-423c-bb81-86f7211f1839",
   "metadata": {},
   "outputs": [],
   "source": []
  }
 ],
 "metadata": {
  "kernelspec": {
   "display_name": "Python 3 (ipykernel)",
   "language": "python",
   "name": "python3"
  },
  "language_info": {
   "codemirror_mode": {
    "name": "ipython",
    "version": 3
   },
   "file_extension": ".py",
   "mimetype": "text/x-python",
   "name": "python",
   "nbconvert_exporter": "python",
   "pygments_lexer": "ipython3",
   "version": "3.12.7"
  }
 },
 "nbformat": 4,
 "nbformat_minor": 5
}
