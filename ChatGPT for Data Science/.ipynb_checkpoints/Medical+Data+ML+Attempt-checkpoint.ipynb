{
 "cells": [
  {
   "cell_type": "code",
   "execution_count": 2,
   "metadata": {},
   "outputs": [],
   "source": [
    "import pandas as pd"
   ]
  },
  {
   "cell_type": "code",
   "execution_count": 3,
   "metadata": {},
   "outputs": [],
   "source": [
    "patients_data = pd.read_csv(\"patients_preprocessed.csv\")"
   ]
  },
  {
   "cell_type": "code",
   "execution_count": 4,
   "metadata": {},
   "outputs": [
    {
     "name": "stderr",
     "output_type": "stream",
     "text": [
      "C:\\Users\\nikol\\AppData\\Local\\Continuum\\anaconda3\\lib\\site-packages\\ipykernel_launcher.py:28: SettingWithCopyWarning: \n",
      "A value is trying to be set on a copy of a slice from a DataFrame.\n",
      "Try using .loc[row_indexer,col_indexer] = value instead\n",
      "\n",
      "See the caveats in the documentation: https://pandas.pydata.org/pandas-docs/stable/user_guide/indexing.html#returning-a-view-versus-a-copy\n"
     ]
    },
    {
     "data": {
      "text/plain": [
       "(0.0625, 0)"
      ]
     },
     "execution_count": 4,
     "metadata": {},
     "output_type": "execute_result"
    }
   ],
   "source": [
    "from sklearn.tree import DecisionTreeClassifier\n",
    "from sklearn.model_selection import train_test_split\n",
    "\n",
    "# Prepare the dataset for training\n",
    "# We will remove rows with \"Unknown\" diagnosis to train the model and then predict for the \"Unknown\" ones\n",
    "known_diagnosis_data = patients_data[patients_data['Diagnosis'] != 'Unknown']\n",
    "unknown_diagnosis_data = patients_data[patients_data['Diagnosis'] == 'Unknown']\n",
    "\n",
    "# Features and target\n",
    "X = known_diagnosis_data[['Age', 'LabResult']]\n",
    "y = known_diagnosis_data['Diagnosis']\n",
    "\n",
    "# Split the data into training and testing sets for model validation\n",
    "X_train, X_test, y_train, y_test = train_test_split(X, y, test_size=0.2, random_state=42)\n",
    "\n",
    "# Train a Decision Tree classifier\n",
    "clf = DecisionTreeClassifier(random_state=42)\n",
    "clf.fit(X_train, y_train)\n",
    "\n",
    "# Validate the model on the test set\n",
    "accuracy = clf.score(X_test, y_test)\n",
    "\n",
    "# Predict the diagnosis for the rows with \"Unknown\" diagnosis\n",
    "X_unknown = unknown_diagnosis_data[['Age', 'LabResult']]\n",
    "predicted_diagnosis = clf.predict(X_unknown)\n",
    "\n",
    "# Update the dataframe with the imputed values\n",
    "unknown_diagnosis_data['Diagnosis'] = predicted_diagnosis\n",
    "\n",
    "# Combine the data back together\n",
    "imputed_data = pd.concat([known_diagnosis_data, unknown_diagnosis_data], axis=0).sort_index()\n",
    "\n",
    "accuracy, imputed_data[imputed_data['Diagnosis'] == 'Unknown'].shape[0]\n"
   ]
  },
  {
   "cell_type": "code",
   "execution_count": null,
   "metadata": {},
   "outputs": [],
   "source": []
  },
  {
   "cell_type": "code",
   "execution_count": 5,
   "metadata": {},
   "outputs": [
    {
     "data": {
      "text/plain": [
       "0.375"
      ]
     },
     "execution_count": 5,
     "metadata": {},
     "output_type": "execute_result"
    }
   ],
   "source": [
    "from sklearn.neighbors import KNeighborsClassifier\n",
    "from sklearn.preprocessing import StandardScaler\n",
    "\n",
    "# Since k-NN is sensitive to feature scales, we'll standardize the features\n",
    "scaler = StandardScaler()\n",
    "X_train_scaled = scaler.fit_transform(X_train)\n",
    "X_test_scaled = scaler.transform(X_test)\n",
    "X_unknown_scaled = scaler.transform(X_unknown)\n",
    "\n",
    "# Train a k-NN classifier\n",
    "knn = KNeighborsClassifier(n_neighbors=5)  # We'll use the commonly chosen k=5 for simplicity\n",
    "knn.fit(X_train_scaled, y_train)\n",
    "\n",
    "# Validate the model on the test set\n",
    "knn_accuracy = knn.score(X_test_scaled, y_test)\n",
    "\n",
    "knn_accuracy\n"
   ]
  },
  {
   "cell_type": "code",
   "execution_count": null,
   "metadata": {},
   "outputs": [],
   "source": []
  }
 ],
 "metadata": {
  "kernelspec": {
   "display_name": "Python 3",
   "language": "python",
   "name": "python3"
  },
  "language_info": {
   "codemirror_mode": {
    "name": "ipython",
    "version": 3
   },
   "file_extension": ".py",
   "mimetype": "text/x-python",
   "name": "python",
   "nbconvert_exporter": "python",
   "pygments_lexer": "ipython3",
   "version": "3.7.6"
  }
 },
 "nbformat": 4,
 "nbformat_minor": 4
}
