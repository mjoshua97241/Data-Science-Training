{
 "cells": [
  {
   "cell_type": "markdown",
   "id": "3f981408-74aa-4d2b-93bc-981a8d3b8acc",
   "metadata": {},
   "source": [
    "# DUMMY VARIABLE\n",
    "\n",
    "Imitation with categories with numbers"
   ]
  },
  {
   "cell_type": "code",
   "execution_count": null,
   "id": "9de31551-4b4b-4568-8ad2-2e8280b59cc3",
   "metadata": {},
   "outputs": [],
   "source": []
  }
 ],
 "metadata": {
  "kernelspec": {
   "display_name": "Python 3 (ipykernel)",
   "language": "python",
   "name": "python3"
  },
  "language_info": {
   "codemirror_mode": {
    "name": "ipython",
    "version": 3
   },
   "file_extension": ".py",
   "mimetype": "text/x-python",
   "name": "python",
   "nbconvert_exporter": "python",
   "pygments_lexer": "ipython3",
   "version": "3.12.7"
  }
 },
 "nbformat": 4,
 "nbformat_minor": 5
}
