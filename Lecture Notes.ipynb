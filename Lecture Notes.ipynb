{
 "cells": [
  {
   "cell_type": "markdown",
   "id": "0c73d34e-92db-4e51-a1d0-61d6a82efc2a",
   "metadata": {},
   "source": [
    "# Variables"
   ]
  },
  {
   "cell_type": "code",
   "execution_count": 3,
   "id": "5d12e6d6-7ce6-4d4a-bd0d-c77a7a70a01e",
   "metadata": {},
   "outputs": [
    {
     "data": {
      "text/plain": [
       "20"
      ]
     },
     "execution_count": 3,
     "metadata": {},
     "output_type": "execute_result"
    }
   ],
   "source": [
    "x = 20\n",
    "x"
   ]
  },
  {
   "cell_type": "markdown",
   "id": "60e505fe-8f79-4a15-adfd-7db45ec8b96c",
   "metadata": {},
   "source": [
    "# Numbers and Boolean"
   ]
  },
  {
   "cell_type": "code",
   "execution_count": 5,
   "id": "f433de0e-4c4a-4d4a-ab78-682b62d7ea0c",
   "metadata": {},
   "outputs": [
    {
     "data": {
      "text/plain": [
       "int"
      ]
     },
     "execution_count": 5,
     "metadata": {},
     "output_type": "execute_result"
    }
   ],
   "source": [
    "x1 = 5\n",
    "type(x1)"
   ]
  },
  {
   "cell_type": "code",
   "execution_count": 6,
   "id": "1e069472-db86-4e91-a53d-04acf1dacb83",
   "metadata": {},
   "outputs": [
    {
     "data": {
      "text/plain": [
       "int"
      ]
     },
     "execution_count": 6,
     "metadata": {},
     "output_type": "execute_result"
    }
   ],
   "source": [
    "type(-6)"
   ]
  },
  {
   "cell_type": "code",
   "execution_count": 7,
   "id": "1877cf6a-aeb0-4852-8dcb-e7612db73de5",
   "metadata": {},
   "outputs": [
    {
     "data": {
      "text/plain": [
       "float"
      ]
     },
     "execution_count": 7,
     "metadata": {},
     "output_type": "execute_result"
    }
   ],
   "source": [
    "x2=4.75\n",
    "type(x2)"
   ]
  },
  {
   "cell_type": "code",
   "execution_count": 8,
   "id": "08ebc1fb-f63a-493d-8372-c7e35533aa72",
   "metadata": {},
   "outputs": [
    {
     "data": {
      "text/plain": [
       "4"
      ]
     },
     "execution_count": 8,
     "metadata": {},
     "output_type": "execute_result"
    }
   ],
   "source": [
    "int(x2)"
   ]
  },
  {
   "cell_type": "code",
   "execution_count": 9,
   "id": "429fe9ae-1dc9-455e-baf2-452123b77b41",
   "metadata": {},
   "outputs": [
    {
     "data": {
      "text/plain": [
       "5.0"
      ]
     },
     "execution_count": 9,
     "metadata": {},
     "output_type": "execute_result"
    }
   ],
   "source": [
    "float(5)"
   ]
  },
  {
   "cell_type": "code",
   "execution_count": 10,
   "id": "68ea8e6b-3cf9-4d89-84b9-d7ce11778510",
   "metadata": {},
   "outputs": [
    {
     "data": {
      "text/plain": [
       "bool"
      ]
     },
     "execution_count": 10,
     "metadata": {},
     "output_type": "execute_result"
    }
   ],
   "source": [
    "x3 = True\n",
    "type(x3)"
   ]
  },
  {
   "cell_type": "code",
   "execution_count": 11,
   "id": "34fc459a-dfc2-4e6f-8235-6a18dd55e0dd",
   "metadata": {},
   "outputs": [],
   "source": [
    "# x3 = true"
   ]
  },
  {
   "cell_type": "markdown",
   "id": "1638e5b7-10ff-474a-99c2-1295fb4ba1fd",
   "metadata": {},
   "source": [
    "# Strings"
   ]
  },
  {
   "cell_type": "code",
   "execution_count": 13,
   "id": "9099d3b9-61c4-4ea3-b4b9-7749aabe518c",
   "metadata": {},
   "outputs": [
    {
     "data": {
      "text/plain": [
       "'George'"
      ]
     },
     "execution_count": 13,
     "metadata": {},
     "output_type": "execute_result"
    }
   ],
   "source": [
    "'George'"
   ]
  },
  {
   "cell_type": "code",
   "execution_count": 14,
   "id": "81572ab3-54a1-40f8-b416-feaa9c5a4f67",
   "metadata": {},
   "outputs": [
    {
     "data": {
      "text/plain": [
       "'George'"
      ]
     },
     "execution_count": 14,
     "metadata": {},
     "output_type": "execute_result"
    }
   ],
   "source": [
    "\"George\""
   ]
  },
  {
   "cell_type": "code",
   "execution_count": 15,
   "id": "cbc6a589-beee-4cab-99e5-0347e8b49caa",
   "metadata": {},
   "outputs": [
    {
     "name": "stdout",
     "output_type": "stream",
     "text": [
      "George\n"
     ]
    }
   ],
   "source": [
    "print('George')"
   ]
  },
  {
   "cell_type": "code",
   "execution_count": 16,
   "id": "43aae72c-d598-48f2-a271-960fb915edde",
   "metadata": {},
   "outputs": [
    {
     "name": "stdout",
     "output_type": "stream",
     "text": [
      "George\n"
     ]
    }
   ],
   "source": [
    "print(\"George\")"
   ]
  },
  {
   "cell_type": "code",
   "execution_count": 17,
   "id": "da0b4eed-b830-4d36-bd7d-02d7c37b2b33",
   "metadata": {},
   "outputs": [
    {
     "data": {
      "text/plain": [
       "'George'"
      ]
     },
     "execution_count": 17,
     "metadata": {},
     "output_type": "execute_result"
    }
   ],
   "source": [
    "x4 = 'George'\n",
    "x4"
   ]
  },
  {
   "cell_type": "code",
   "execution_count": 18,
   "id": "450ca2a8-9820-41c0-9c42-a784098240fd",
   "metadata": {},
   "outputs": [
    {
     "ename": "TypeError",
     "evalue": "unsupported operand type(s) for +: 'int' and 'str'",
     "output_type": "error",
     "traceback": [
      "\u001b[1;31m---------------------------------------------------------------------------\u001b[0m",
      "\u001b[1;31mTypeError\u001b[0m                                 Traceback (most recent call last)",
      "Cell \u001b[1;32mIn[18], line 2\u001b[0m\n\u001b[0;32m      1\u001b[0m y \u001b[38;5;241m=\u001b[39m \u001b[38;5;241m10\u001b[39m\n\u001b[1;32m----> 2\u001b[0m \u001b[38;5;28mprint\u001b[39m(\u001b[43my\u001b[49m\u001b[43m \u001b[49m\u001b[38;5;241;43m+\u001b[39;49m\u001b[43m \u001b[49m\u001b[38;5;124;43m\"\u001b[39;49m\u001b[38;5;124;43mDollars\u001b[39;49m\u001b[38;5;124;43m\"\u001b[39;49m)\n",
      "\u001b[1;31mTypeError\u001b[0m: unsupported operand type(s) for +: 'int' and 'str'"
     ]
    }
   ],
   "source": [
    "y = 10\n",
    "print(y + \"Dollars\")"
   ]
  },
  {
   "cell_type": "code",
   "execution_count": null,
   "id": "c575f3b4-5293-469d-b847-e06cbfe699a6",
   "metadata": {},
   "outputs": [],
   "source": [
    "print(str(y) + \" Dollars\")"
   ]
  },
  {
   "cell_type": "code",
   "execution_count": null,
   "id": "b93ab845-7db6-4db2-9165-d560b7ab7175",
   "metadata": {},
   "outputs": [],
   "source": [
    "'I'm fine'"
   ]
  },
  {
   "cell_type": "code",
   "execution_count": null,
   "id": "03ff66d1-d3b0-44ae-a982-9a588c5f7293",
   "metadata": {},
   "outputs": [],
   "source": [
    "\"I'm fine\""
   ]
  },
  {
   "cell_type": "code",
   "execution_count": null,
   "id": "a7a057c3-8d75-4871-a19d-47663df55456",
   "metadata": {},
   "outputs": [],
   "source": [
    "'I\\'m fine' "
   ]
  },
  {
   "cell_type": "code",
   "execution_count": null,
   "id": "aab3857a-e114-4c9f-a406-01bc59b5acf5",
   "metadata": {},
   "outputs": [],
   "source": [
    "'Press \"Enter\"'"
   ]
  },
  {
   "cell_type": "code",
   "execution_count": null,
   "id": "95c44d5d-d7c8-40b3-8c45-12e3d64491f9",
   "metadata": {},
   "outputs": [],
   "source": [
    "'Red' 'car'"
   ]
  },
  {
   "cell_type": "code",
   "execution_count": null,
   "id": "4a7df67a-2bfb-45e8-b1ca-9dcb4e56d516",
   "metadata": {},
   "outputs": [],
   "source": [
    "'Red ' 'car'"
   ]
  },
  {
   "cell_type": "code",
   "execution_count": null,
   "id": "e38e4e70-dc86-49a1-b3a3-adac99b4411b",
   "metadata": {},
   "outputs": [],
   "source": [
    "'Red ' + 'car'"
   ]
  },
  {
   "cell_type": "code",
   "execution_count": null,
   "id": "6d37e499-0341-416c-a52b-7cb8cb2b6957",
   "metadata": {},
   "outputs": [],
   "source": [
    "print('Red ' + 'car')"
   ]
  },
  {
   "cell_type": "code",
   "execution_count": null,
   "id": "21b04fc1-7a32-48da-b5d8-3e00f51bf843",
   "metadata": {},
   "outputs": [],
   "source": [
    "print('Red', 'car')"
   ]
  },
  {
   "cell_type": "code",
   "execution_count": null,
   "id": "2130cfc2-b226-4359-8c86-637bf4057f5e",
   "metadata": {},
   "outputs": [],
   "source": [
    "print(3,5)"
   ]
  },
  {
   "cell_type": "code",
   "execution_count": null,
   "id": "840e5a45-573f-4b23-a10f-da7e73010cce",
   "metadata": {},
   "outputs": [],
   "source": [
    "3,5,6.9,7.0,'car'"
   ]
  },
  {
   "cell_type": "markdown",
   "id": "f02bd384-373e-41ff-a32c-0c2c5a9fdc79",
   "metadata": {},
   "source": [
    "# Arithmetic Operators"
   ]
  },
  {
   "cell_type": "code",
   "execution_count": null,
   "id": "4de6dc18-892e-419c-a0dd-ae329151f4ce",
   "metadata": {},
   "outputs": [],
   "source": [
    "1+2"
   ]
  },
  {
   "cell_type": "code",
   "execution_count": null,
   "id": "dd192473-9c59-45a1-8d09-54ac09c0613a",
   "metadata": {},
   "outputs": [],
   "source": [
    "3-5"
   ]
  },
  {
   "cell_type": "code",
   "execution_count": null,
   "id": "7fed219e-4186-445c-a34f-94b6c6fc6605",
   "metadata": {},
   "outputs": [],
   "source": [
    "15/3"
   ]
  },
  {
   "cell_type": "code",
   "execution_count": null,
   "id": "f6978ee5-2567-4b0c-a0db-315db193140a",
   "metadata": {},
   "outputs": [],
   "source": [
    "16/3"
   ]
  },
  {
   "cell_type": "code",
   "execution_count": null,
   "id": "cd846cee-8e55-42d6-a205-473e3d2a445b",
   "metadata": {},
   "outputs": [],
   "source": [
    "16%3"
   ]
  },
  {
   "cell_type": "code",
   "execution_count": null,
   "id": "a24eac58-0913-4e9a-9576-c2d5d813da24",
   "metadata": {},
   "outputs": [],
   "source": [
    "5*3"
   ]
  },
  {
   "cell_type": "code",
   "execution_count": null,
   "id": "cb03d8a6-9e8f-4ffb-ac0b-22e6931bcd0e",
   "metadata": {},
   "outputs": [],
   "source": [
    "x=5*3\n",
    "x"
   ]
  },
  {
   "cell_type": "code",
   "execution_count": null,
   "id": "22f5e527-b9f6-459c-bedc-e44e23556669",
   "metadata": {},
   "outputs": [],
   "source": [
    "5**3"
   ]
  },
  {
   "cell_type": "markdown",
   "id": "f09e268f-e326-4820-95d4-56ad5ba98b9b",
   "metadata": {},
   "source": [
    "# The Double Equality Sign"
   ]
  },
  {
   "cell_type": "code",
   "execution_count": null,
   "id": "0e0dd998-2de8-4510-8a57-80179b8e4049",
   "metadata": {},
   "outputs": [],
   "source": [
    "y = 5**3\n",
    "y"
   ]
  },
  {
   "cell_type": "code",
   "execution_count": null,
   "id": "3fc5bde3-cbf8-4535-b969-504c9ef1162b",
   "metadata": {},
   "outputs": [],
   "source": [
    "y == 125"
   ]
  },
  {
   "cell_type": "code",
   "execution_count": null,
   "id": "d21e9ca1-97a0-4da3-bda4-9fd5b1188cca",
   "metadata": {},
   "outputs": [],
   "source": [
    "y == 126"
   ]
  },
  {
   "cell_type": "markdown",
   "id": "5c17e29c-3d8a-4036-b03d-f47fc732e821",
   "metadata": {},
   "source": [
    "# Reassign Values"
   ]
  },
  {
   "cell_type": "code",
   "execution_count": null,
   "id": "43d20daf-524b-4f13-b273-ffc2d2487770",
   "metadata": {},
   "outputs": [],
   "source": [
    "z = 1\n",
    "z"
   ]
  },
  {
   "cell_type": "code",
   "execution_count": null,
   "id": "80bf627d-e689-4df0-8152-c9ae2b0371ab",
   "metadata": {},
   "outputs": [],
   "source": [
    "z = 3\n",
    "z"
   ]
  },
  {
   "cell_type": "code",
   "execution_count": null,
   "id": "c02bbafb-1420-403f-901d-da7c3b4abd0d",
   "metadata": {},
   "outputs": [],
   "source": [
    "z + 5"
   ]
  },
  {
   "cell_type": "code",
   "execution_count": null,
   "id": "8ebe2495-4e68-4fdc-b653-622b769d9b47",
   "metadata": {},
   "outputs": [],
   "source": [
    "z = 7\n",
    "z"
   ]
  },
  {
   "cell_type": "markdown",
   "id": "fe0337f2-fd8d-43f6-8ac5-af7259db6e11",
   "metadata": {},
   "source": [
    "# Add Comments"
   ]
  },
  {
   "cell_type": "code",
   "execution_count": null,
   "id": "e92a6bc1-0405-44ec-bd67-cbd747448f8d",
   "metadata": {},
   "outputs": [],
   "source": [
    "# This is just a comment and not code!\n",
    "print(7,2)"
   ]
  },
  {
   "cell_type": "code",
   "execution_count": null,
   "id": "6b1546d8-470c-4e0a-8ffe-bfac5d4364da",
   "metadata": {},
   "outputs": [],
   "source": [
    "# Comment 1\n",
    "# Comment 2\n",
    "300"
   ]
  },
  {
   "cell_type": "markdown",
   "id": "abc35732-7fbc-4e23-a615-1b68ca2c828d",
   "metadata": {},
   "source": [
    "# Line Continuation"
   ]
  },
  {
   "cell_type": "code",
   "execution_count": null,
   "id": "c829674a-11bc-47e5-bebf-97f7668c92ec",
   "metadata": {},
   "outputs": [],
   "source": [
    "2.0 * 1.5 + \\\n",
    "5"
   ]
  },
  {
   "cell_type": "markdown",
   "id": "a6836cf9-dfc9-4944-8c81-3ffa3dc32ad3",
   "metadata": {},
   "source": [
    "# Indexing Elements"
   ]
  },
  {
   "cell_type": "code",
   "execution_count": null,
   "id": "6b2c1405-3235-442b-8703-0d99ce33b3d8",
   "metadata": {},
   "outputs": [],
   "source": [
    "\"Friday\"[4]"
   ]
  },
  {
   "cell_type": "markdown",
   "id": "52d674fe-0a68-4c67-bd90-6665e42901c8",
   "metadata": {},
   "source": [
    "# Structuring with Indentation"
   ]
  },
  {
   "cell_type": "code",
   "execution_count": null,
   "id": "08d1cd48-d713-4942-a057-f3b4953f8dd5",
   "metadata": {},
   "outputs": [],
   "source": [
    "def five(x):\n",
    "    x = 5\n",
    "    return x\n",
    "\n",
    "print(five(3))"
   ]
  },
  {
   "cell_type": "markdown",
   "id": "bb0be460-51e0-40c9-bede-6ae4e3a9ffab",
   "metadata": {},
   "source": [
    "# Comparison Operators"
   ]
  },
  {
   "cell_type": "code",
   "execution_count": null,
   "id": "985d63bc-6e2a-47dd-9238-31d65f1102f6",
   "metadata": {},
   "outputs": [],
   "source": [
    "10 == 20 / 2"
   ]
  },
  {
   "cell_type": "code",
   "execution_count": null,
   "id": "97a1e775-73f2-453e-9aa2-6c3b9d518431",
   "metadata": {},
   "outputs": [],
   "source": [
    "10 != 10 "
   ]
  },
  {
   "cell_type": "code",
   "execution_count": null,
   "id": "4c0197bc-1036-477e-afcf-038e6099642b",
   "metadata": {},
   "outputs": [],
   "source": [
    "10 != 15"
   ]
  },
  {
   "cell_type": "code",
   "execution_count": null,
   "id": "c2ca8572-b45c-47ee-8fba-42b7bdfebf69",
   "metadata": {},
   "outputs": [],
   "source": [
    "100 > 50"
   ]
  },
  {
   "cell_type": "code",
   "execution_count": null,
   "id": "de58b4a2-dcf9-4729-8b7a-6a62ad6bfe71",
   "metadata": {},
   "outputs": [],
   "source": [
    "100 < 50"
   ]
  },
  {
   "cell_type": "code",
   "execution_count": null,
   "id": "e82ea5d4-74d7-4df2-a848-47cea77cdf64",
   "metadata": {},
   "outputs": [],
   "source": [
    "15 >= 10 + 10"
   ]
  },
  {
   "cell_type": "code",
   "execution_count": null,
   "id": "ad1e0624-e47a-4823-a595-b4928acff615",
   "metadata": {},
   "outputs": [],
   "source": [
    "15 <= 10 + 5"
   ]
  },
  {
   "cell_type": "markdown",
   "id": "fa36efe2-2f99-4a33-b850-0f1aa2c8fb77",
   "metadata": {},
   "source": [
    "# Logical and Identity Operators\n",
    "\n",
    "## Logical"
   ]
  },
  {
   "cell_type": "code",
   "execution_count": null,
   "id": "6ae5c7c3-385f-4cc4-88cf-cd13ae16a5dc",
   "metadata": {},
   "outputs": [],
   "source": [
    "True and True"
   ]
  },
  {
   "cell_type": "code",
   "execution_count": null,
   "id": "35689449-3f42-4e01-a029-65bbe2c33b56",
   "metadata": {},
   "outputs": [],
   "source": [
    "True and False"
   ]
  },
  {
   "cell_type": "code",
   "execution_count": null,
   "id": "33f00607-f236-4a8b-b32f-4a0eb06da987",
   "metadata": {},
   "outputs": [],
   "source": [
    "False and False"
   ]
  },
  {
   "cell_type": "code",
   "execution_count": null,
   "id": "c570e238-62ec-4cc2-a006-54f1f4be01d0",
   "metadata": {},
   "outputs": [],
   "source": [
    "False or False"
   ]
  },
  {
   "cell_type": "code",
   "execution_count": null,
   "id": "1888d455-f1ab-4d18-b2bd-c20db1861767",
   "metadata": {},
   "outputs": [],
   "source": [
    "True or True"
   ]
  },
  {
   "cell_type": "code",
   "execution_count": null,
   "id": "ceab1b66-97b1-48ba-81ca-1646a619f2a0",
   "metadata": {},
   "outputs": [],
   "source": [
    "True or False"
   ]
  },
  {
   "cell_type": "code",
   "execution_count": null,
   "id": "b41c7de1-2949-4ece-aaee-ec51fcdbe61a",
   "metadata": {},
   "outputs": [],
   "source": [
    "False or True"
   ]
  },
  {
   "cell_type": "code",
   "execution_count": null,
   "id": "8ba7426b-0bd9-4ee6-a5de-137f9ebd645b",
   "metadata": {},
   "outputs": [],
   "source": [
    "not True"
   ]
  },
  {
   "cell_type": "code",
   "execution_count": null,
   "id": "eecfed89-fcab-4caa-b622-8ee19e67b6c1",
   "metadata": {},
   "outputs": [],
   "source": [
    "not False"
   ]
  },
  {
   "cell_type": "code",
   "execution_count": null,
   "id": "bab4fa6c-d481-44b9-a2ac-0dbe5cb4cba9",
   "metadata": {},
   "outputs": [],
   "source": [
    "3 > 5 and 10<= 20"
   ]
  },
  {
   "attachments": {
    "6a6c55ac-8d1a-4a2c-beb0-3d0c39def72a.png": {
     "image/png": "[encoded data removed]"
    }
   },
   "cell_type": "markdown",
   "id": "3111c730-2527-4a0c-a1cf-f1b592b5e608",
   "metadata": {},
   "source": [
    "## Not - And - Or\n",
    "\n",
    "Order of importance\n",
    "![image.png](attachment:6a6c55ac-8d1a-4a2c-beb0-3d0c39def72a.png)"
   ]
  },
  {
   "cell_type": "code",
   "execution_count": null,
   "id": "24b2db54-cf7e-44ca-be18-32d959b8b6c4",
   "metadata": {},
   "outputs": [],
   "source": [
    "True and not True # True and False"
   ]
  },
  {
   "cell_type": "code",
   "execution_count": null,
   "id": "f958eb43-0dfc-4b79-9808-35003efb46b6",
   "metadata": {},
   "outputs": [],
   "source": [
    "False or not True and True # False or False and True"
   ]
  },
  {
   "cell_type": "code",
   "execution_count": null,
   "id": "c4adef43-2da1-43ea-ad55-d604e887c467",
   "metadata": {},
   "outputs": [],
   "source": [
    "True and not True or True # True and False or True"
   ]
  },
  {
   "cell_type": "markdown",
   "id": "027826a2-4a8f-47a5-bc78-b9f0e9289abe",
   "metadata": {},
   "source": [
    "## Identity Operators"
   ]
  },
  {
   "cell_type": "code",
   "execution_count": null,
   "id": "225a86cc-d3b8-493d-87c1-8a004cdfb2c0",
   "metadata": {},
   "outputs": [],
   "source": [
    "# 5 == 6\n",
    "5 is 6"
   ]
  },
  {
   "cell_type": "code",
   "execution_count": null,
   "id": "c49e7961-4880-463d-a07f-3aa6ce5ad18f",
   "metadata": {},
   "outputs": [],
   "source": [
    "# 5 != 6\n",
    "5 is not 6"
   ]
  },
  {
   "cell_type": "code",
   "execution_count": null,
   "id": "e4398931-8d32-403e-894d-4c4b05080649",
   "metadata": {},
   "outputs": [],
   "source": []
  },
  {
   "cell_type": "code",
   "execution_count": null,
   "id": "6c7fe4e4-a7b2-40a6-af90-db4513460c2e",
   "metadata": {},
   "outputs": [],
   "source": []
  },
  {
   "cell_type": "code",
   "execution_count": null,
   "id": "e2ee2815-432b-45b3-b7ea-a52fdd328b6a",
   "metadata": {},
   "outputs": [],
   "source": []
  },
  {
   "cell_type": "code",
   "execution_count": null,
   "id": "71a889c2-387e-4325-9c2f-8bbdf2feb02b",
   "metadata": {},
   "outputs": [],
   "source": []
  },
  {
   "cell_type": "code",
   "execution_count": null,
   "id": "ff16c2ea-6a83-4f82-9854-0d5a87d98bd2",
   "metadata": {},
   "outputs": [],
   "source": []
  },
  {
   "cell_type": "code",
   "execution_count": null,
   "id": "0030d18f-6475-4aa7-b09d-01666d19560d",
   "metadata": {},
   "outputs": [],
   "source": []
  },
  {
   "cell_type": "code",
   "execution_count": null,
   "id": "68bf08e2-ef5d-4930-868e-fefd6e2f67a4",
   "metadata": {},
   "outputs": [],
   "source": []
  },
  {
   "cell_type": "code",
   "execution_count": null,
   "id": "8f683333-a2b5-4edb-8182-d718e8a95a6f",
   "metadata": {},
   "outputs": [],
   "source": []
  },
  {
   "cell_type": "code",
   "execution_count": null,
   "id": "2fd468a4-7217-4cc5-a162-33617883a15b",
   "metadata": {},
   "outputs": [],
   "source": []
  },
  {
   "cell_type": "code",
   "execution_count": null,
   "id": "e73417fa-81b0-48a4-94c8-93ee873c571d",
   "metadata": {},
   "outputs": [],
   "source": []
  },
  {
   "cell_type": "code",
   "execution_count": null,
   "id": "95dfb714-9671-4095-a4b6-3aa9156edd01",
   "metadata": {},
   "outputs": [],
   "source": []
  },
  {
   "cell_type": "code",
   "execution_count": null,
   "id": "adbabd50-c379-4633-bad6-6924b59f3d7c",
   "metadata": {},
   "outputs": [],
   "source": []
  },
  {
   "cell_type": "code",
   "execution_count": null,
   "id": "896679c7-dde1-4a74-8212-b926cc11695d",
   "metadata": {},
   "outputs": [],
   "source": []
  },
  {
   "cell_type": "code",
   "execution_count": null,
   "id": "38461b9e-90a7-4f85-aadb-58e51e736728",
   "metadata": {},
   "outputs": [],
   "source": []
  }
 ],
 "metadata": {
  "kernelspec": {
   "display_name": "Python 3 (ipykernel)",
   "language": "python",
   "name": "python3"
  },
  "language_info": {
   "codemirror_mode": {
    "name": "ipython",
    "version": 3
   },
   "file_extension": ".py",
   "mimetype": "text/x-python",
   "name": "python",
   "nbconvert_exporter": "python",
   "pygments_lexer": "ipython3",
   "version": "3.12.7"
  }
 },
 "nbformat": 4,
 "nbformat_minor": 5
}
