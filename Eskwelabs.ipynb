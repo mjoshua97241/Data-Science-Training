{
 "cells": [
  {
   "cell_type": "code",
   "execution_count": 2,
   "id": "3fef45a0-d797-493e-b0d5-a3fb8515878c",
   "metadata": {},
   "outputs": [
    {
     "data": {
      "text/plain": [
       "11"
      ]
     },
     "execution_count": 2,
     "metadata": {},
     "output_type": "execute_result"
    }
   ],
   "source": [
    "def find_long(array_string):\n",
    "    return max([len(string) for string in array_string.split()])\n",
    "\n",
    "find_long('Mathematics requires a small does, not of genius, but of imaginative freedom which, in a larger dose, would be insanity')"
   ]
  },
  {
   "cell_type": "code",
   "execution_count": 4,
   "id": "84fa660d-f9db-46fc-b0e5-fae299a15172",
   "metadata": {},
   "outputs": [
    {
     "data": {
      "text/plain": [
       "10"
      ]
     },
     "execution_count": 4,
     "metadata": {},
     "output_type": "execute_result"
    }
   ],
   "source": [
    "(lambda x, y ,z: x**y + z)(3,2,1)"
   ]
  },
  {
   "cell_type": "code",
   "execution_count": 11,
   "id": "a14f534d-25bd-488a-b9d1-bca8c25cd905",
   "metadata": {},
   "outputs": [
    {
     "data": {
      "text/plain": [
       "['apples', 'oranges', 'grapes']"
      ]
     },
     "execution_count": 11,
     "metadata": {},
     "output_type": "execute_result"
    }
   ],
   "source": [
    "basket = ['apples', 'oranges', 'mangoes']\n",
    "basket[2] = 'grapes'\n",
    "basket"
   ]
  },
  {
   "cell_type": "code",
   "execution_count": 15,
   "id": "df9a5dd2-65fc-413f-bb5c-5c61d17c7a09",
   "metadata": {},
   "outputs": [
    {
     "name": "stdout",
     "output_type": "stream",
     "text": [
      "even [8]\n",
      "odd [1, 3, 5, 7]\n"
     ]
    },
    {
     "data": {
      "text/plain": [
       "8"
      ]
     },
     "execution_count": 15,
     "metadata": {},
     "output_type": "execute_result"
    }
   ],
   "source": [
    "def find_num (array_n):\n",
    "    even = [n for n in array_n if n % 2 == 0]\n",
    "    odd = [n for n in array_n if n % 2 == 1]\n",
    "    return even[0] if len(even) == 1 else odd[0]\n",
    "\n",
    "find_num([1,3,5,7,8])"
   ]
  },
  {
   "cell_type": "code",
   "execution_count": 17,
   "id": "3db31f37-e143-4f15-8778-5ea603810362",
   "metadata": {},
   "outputs": [
    {
     "data": {
      "text/plain": [
       "'awberrystray eesecakechay'"
      ]
     },
     "execution_count": 17,
     "metadata": {},
     "output_type": "execute_result"
    }
   ],
   "source": [
    "def mystery_function1(word):\n",
    "    vowels = ['a', 'e', 'i', 'o', 'u']\n",
    "    while word[0] not in vowels:\n",
    "        word = word[1:] + word[0]\n",
    "    return word + 'ay'\n",
    "\n",
    "def mystery_function2(phrase):\n",
    "    words = phrase.split()\n",
    "    new_phrase = [mystery_function1(word) for word in words]\n",
    "    return ' '.join(new_phrase)\n",
    "\n",
    "mystery_function2('strawberry cheesecake')"
   ]
  },
  {
   "cell_type": "code",
   "execution_count": null,
   "id": "0ee86b71-97a9-41ec-840d-ade53f9cd303",
   "metadata": {},
   "outputs": [],
   "source": []
  }
 ],
 "metadata": {
  "kernelspec": {
   "display_name": "Python 3 (ipykernel)",
   "language": "python",
   "name": "python3"
  },
  "language_info": {
   "codemirror_mode": {
    "name": "ipython",
    "version": 3
   },
   "file_extension": ".py",
   "mimetype": "text/x-python",
   "name": "python",
   "nbconvert_exporter": "python",
   "pygments_lexer": "ipython3",
   "version": "3.12.7"
  }
 },
 "nbformat": 4,
 "nbformat_minor": 5
}
