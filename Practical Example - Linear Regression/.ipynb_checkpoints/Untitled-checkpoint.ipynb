{
 "cells": [
  {
   "cell_type": "markdown",
   "id": "d2b0d145-fbcf-4fed-9ae0-852f40a6e9aa",
   "metadata": {},
   "source": [
    "# sklearn - Linear Regression (Part 5) with Price not transformed"
   ]
  },
  {
   "cell_type": "code",
   "execution_count": null,
   "id": "84de85f4-310d-40f7-8d4c-bd58f78278a5",
   "metadata": {},
   "outputs": [],
   "source": []
  }
 ],
 "metadata": {
  "kernelspec": {
   "display_name": "Python 3 (ipykernel)",
   "language": "python",
   "name": "python3"
  },
  "language_info": {
   "codemirror_mode": {
    "name": "ipython",
    "version": 3
   },
   "file_extension": ".py",
   "mimetype": "text/x-python",
   "name": "python",
   "nbconvert_exporter": "python",
   "pygments_lexer": "ipython3",
   "version": "3.12.7"
  }
 },
 "nbformat": 4,
 "nbformat_minor": 5
}
